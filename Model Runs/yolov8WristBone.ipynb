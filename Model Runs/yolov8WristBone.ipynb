{
  "nbformat": 4,
  "nbformat_minor": 0,
  "metadata": {
    "colab": {
      "provenance": [],
      "machine_shape": "hm"
    },
    "kernelspec": {
      "name": "python3",
      "display_name": "Python 3"
    },
    "language_info": {
      "name": "python"
    },
    "accelerator": "GPU",
    "gpuClass": "premium"
  },
  "cells": [
    {
      "cell_type": "code",
      "execution_count": null,
      "metadata": {
        "colab": {
          "base_uri": "https://localhost:8080/"
        },
        "id": "clszgVq_onAw",
        "outputId": "7cf4b093-9b35-4cb5-a404-d54bca02bf41"
      },
      "outputs": [
        {
          "output_type": "stream",
          "name": "stdout",
          "text": [
            "Mounted at /content/gdrive\n"
          ]
        }
      ],
      "source": [
        "from google.colab import drive\n",
        "drive.mount('/content/gdrive')"
      ]
    },
    {
      "cell_type": "code",
      "source": [
        "!git clone https://github.com/ultralytics/ultralytics"
      ],
      "metadata": {
        "colab": {
          "base_uri": "https://localhost:8080/"
        },
        "id": "1d3s3Lnqo18I",
        "outputId": "41b1af73-40da-4c01-8804-d4f89a5595af"
      },
      "execution_count": null,
      "outputs": [
        {
          "output_type": "stream",
          "name": "stdout",
          "text": [
            "Cloning into 'ultralytics'...\n",
            "remote: Enumerating objects: 7099, done.\u001b[K\n",
            "remote: Counting objects: 100% (704/704), done.\u001b[K\n",
            "remote: Compressing objects: 100% (382/382), done.\u001b[K\n",
            "remote: Total 7099 (delta 356), reused 588 (delta 321), pack-reused 6395\u001b[K\n",
            "Receiving objects: 100% (7099/7099), 5.57 MiB | 7.17 MiB/s, done.\n",
            "Resolving deltas: 100% (4707/4707), done.\n"
          ]
        }
      ]
    },
    {
      "cell_type": "code",
      "source": [
        "cd ultralytics"
      ],
      "metadata": {
        "colab": {
          "base_uri": "https://localhost:8080/"
        },
        "id": "4TWoiRAvo7Z9",
        "outputId": "766c5429-6ef5-4937-fe09-188399be4950"
      },
      "execution_count": null,
      "outputs": [
        {
          "output_type": "stream",
          "name": "stdout",
          "text": [
            "/content/ultralytics\n"
          ]
        }
      ]
    },
    {
      "cell_type": "code",
      "source": [
        "!pip install -e"
      ],
      "metadata": {
        "colab": {
          "base_uri": "https://localhost:8080/"
        },
        "id": "n7ghMwJQpH6N",
        "outputId": "78d52132-7abe-4273-fa56-b9bfbab5c149"
      },
      "execution_count": null,
      "outputs": [
        {
          "output_type": "stream",
          "name": "stdout",
          "text": [
            "\n",
            "Usage:   \n",
            "  pip3 install [options] <requirement specifier> [package-index-options] ...\n",
            "  pip3 install [options] -r <requirements file> [package-index-options] ...\n",
            "  pip3 install [options] [-e] <vcs project url> ...\n",
            "  pip3 install [options] [-e] <local project path> ...\n",
            "  pip3 install [options] <archive url/path> ...\n",
            "\n",
            "-e option requires 1 argument\n"
          ]
        }
      ]
    },
    {
      "cell_type": "code",
      "source": [
        "!pip install thop"
      ],
      "metadata": {
        "id": "FnBTQinmpWq5",
        "colab": {
          "base_uri": "https://localhost:8080/"
        },
        "outputId": "6554da13-db2f-4523-dd29-792ef9836c00"
      },
      "execution_count": null,
      "outputs": [
        {
          "output_type": "stream",
          "name": "stdout",
          "text": [
            "Looking in indexes: https://pypi.org/simple, https://us-python.pkg.dev/colab-wheels/public/simple/\n",
            "Collecting thop\n",
            "  Downloading thop-0.1.1.post2209072238-py3-none-any.whl (15 kB)\n",
            "Requirement already satisfied: torch in /usr/local/lib/python3.9/dist-packages (from thop) (2.0.0+cu118)\n",
            "Requirement already satisfied: networkx in /usr/local/lib/python3.9/dist-packages (from torch->thop) (3.1)\n",
            "Requirement already satisfied: triton==2.0.0 in /usr/local/lib/python3.9/dist-packages (from torch->thop) (2.0.0)\n",
            "Requirement already satisfied: filelock in /usr/local/lib/python3.9/dist-packages (from torch->thop) (3.11.0)\n",
            "Requirement already satisfied: jinja2 in /usr/local/lib/python3.9/dist-packages (from torch->thop) (3.1.2)\n",
            "Requirement already satisfied: sympy in /usr/local/lib/python3.9/dist-packages (from torch->thop) (1.11.1)\n",
            "Requirement already satisfied: typing-extensions in /usr/local/lib/python3.9/dist-packages (from torch->thop) (4.5.0)\n",
            "Requirement already satisfied: lit in /usr/local/lib/python3.9/dist-packages (from triton==2.0.0->torch->thop) (16.0.1)\n",
            "Requirement already satisfied: cmake in /usr/local/lib/python3.9/dist-packages (from triton==2.0.0->torch->thop) (3.25.2)\n",
            "Requirement already satisfied: MarkupSafe>=2.0 in /usr/local/lib/python3.9/dist-packages (from jinja2->torch->thop) (2.1.2)\n",
            "Requirement already satisfied: mpmath>=0.19 in /usr/local/lib/python3.9/dist-packages (from sympy->torch->thop) (1.3.0)\n",
            "Installing collected packages: thop\n",
            "Successfully installed thop-0.1.1.post2209072238\n"
          ]
        }
      ]
    },
    {
      "cell_type": "code",
      "source": [
        "from ultralytics import YOLO"
      ],
      "metadata": {
        "id": "ZFFbjB1QqvpP"
      },
      "execution_count": null,
      "outputs": []
    },
    {
      "cell_type": "code",
      "source": [
        "model = YOLO('yolov8n.pt')"
      ],
      "metadata": {
        "colab": {
          "base_uri": "https://localhost:8080/"
        },
        "id": "hhNjf0lTqyQd",
        "outputId": "c2b64bd9-e047-4f8a-9022-ef2ef043233e"
      },
      "execution_count": null,
      "outputs": [
        {
          "output_type": "stream",
          "name": "stderr",
          "text": [
            "Downloading https://github.com/ultralytics/assets/releases/download/v0.0.0/yolov8n.pt to yolov8n.pt...\n",
            "100%|██████████| 6.23M/6.23M [00:00<00:00, 278MB/s]\n"
          ]
        }
      ]
    },
    {
      "cell_type": "code",
      "source": [
        "results = model.train(data='/content/gdrive/MyDrive/WristBoneProject/GRAZPEDWRI-DX_dataset/yolov5/meta.yaml', epochs=50)"
      ],
      "metadata": {
        "colab": {
          "base_uri": "https://localhost:8080/"
        },
        "id": "ykt9bAfUq9Yg",
        "outputId": "6edee1fb-977d-4655-9e8e-3dffd9522495"
      },
      "execution_count": null,
      "outputs": [
        {
          "output_type": "stream",
          "name": "stderr",
          "text": [
            "Ultralytics YOLOv8.0.84 🚀 Python-3.9.16 torch-2.0.0+cu118 CUDA:0 (NVIDIA A100-SXM4-40GB, 40514MiB)\n",
            "\u001b[34m\u001b[1myolo/engine/trainer: \u001b[0mtask=detect, mode=train, model=yolov8n.pt, data=/content/gdrive/MyDrive/WristBoneProject/GRAZPEDWRI-DX_dataset/yolov5/meta.yaml, epochs=50, patience=50, batch=16, imgsz=640, save=True, save_period=-1, cache=False, device=None, workers=8, project=None, name=None, exist_ok=False, pretrained=False, optimizer=SGD, verbose=True, seed=0, deterministic=True, single_cls=False, image_weights=False, rect=False, cos_lr=False, close_mosaic=0, resume=False, amp=True, overlap_mask=True, mask_ratio=4, dropout=0.0, val=True, split=val, save_json=False, save_hybrid=False, conf=None, iou=0.7, max_det=300, half=False, dnn=False, plots=True, source=None, show=False, save_txt=False, save_conf=False, save_crop=False, show_labels=True, show_conf=True, vid_stride=1, line_thickness=3, visualize=False, augment=False, agnostic_nms=False, classes=None, retina_masks=False, boxes=True, format=torchscript, keras=False, optimize=False, int8=False, dynamic=False, simplify=False, opset=None, workspace=4, nms=False, lr0=0.01, lrf=0.01, momentum=0.937, weight_decay=0.0005, warmup_epochs=3.0, warmup_momentum=0.8, warmup_bias_lr=0.1, box=7.5, cls=0.5, dfl=1.5, pose=12.0, kobj=1.0, label_smoothing=0.0, nbs=64, hsv_h=0.015, hsv_s=0.7, hsv_v=0.4, degrees=0.0, translate=0.1, scale=0.5, shear=0.0, perspective=0.0, flipud=0.0, fliplr=0.5, mosaic=1.0, mixup=0.0, copy_paste=0.0, cfg=None, v5loader=False, tracker=botsort.yaml, save_dir=/content/ultralytics/runs/detect/train\n",
            "Downloading https://ultralytics.com/assets/Arial.ttf to /root/.config/Ultralytics/Arial.ttf...\n",
            "100%|██████████| 755k/755k [00:00<00:00, 104MB/s]\n",
            "Overriding model.yaml nc=80 with nc=9\n",
            "\n",
            "                   from  n    params  module                                       arguments                     \n",
            "  0                  -1  1       464  ultralytics.nn.modules.Conv                  [3, 16, 3, 2]                 \n",
            "  1                  -1  1      4672  ultralytics.nn.modules.Conv                  [16, 32, 3, 2]                \n",
            "  2                  -1  1      7360  ultralytics.nn.modules.C2f                   [32, 32, 1, True]             \n",
            "  3                  -1  1     18560  ultralytics.nn.modules.Conv                  [32, 64, 3, 2]                \n",
            "  4                  -1  2     49664  ultralytics.nn.modules.C2f                   [64, 64, 2, True]             \n",
            "  5                  -1  1     73984  ultralytics.nn.modules.Conv                  [64, 128, 3, 2]               \n",
            "  6                  -1  2    197632  ultralytics.nn.modules.C2f                   [128, 128, 2, True]           \n",
            "  7                  -1  1    295424  ultralytics.nn.modules.Conv                  [128, 256, 3, 2]              \n",
            "  8                  -1  1    460288  ultralytics.nn.modules.C2f                   [256, 256, 1, True]           \n",
            "  9                  -1  1    164608  ultralytics.nn.modules.SPPF                  [256, 256, 5]                 \n",
            " 10                  -1  1         0  torch.nn.modules.upsampling.Upsample         [None, 2, 'nearest']          \n",
            " 11             [-1, 6]  1         0  ultralytics.nn.modules.Concat                [1]                           \n",
            " 12                  -1  1    148224  ultralytics.nn.modules.C2f                   [384, 128, 1]                 \n",
            " 13                  -1  1         0  torch.nn.modules.upsampling.Upsample         [None, 2, 'nearest']          \n",
            " 14             [-1, 4]  1         0  ultralytics.nn.modules.Concat                [1]                           \n",
            " 15                  -1  1     37248  ultralytics.nn.modules.C2f                   [192, 64, 1]                  \n",
            " 16                  -1  1     36992  ultralytics.nn.modules.Conv                  [64, 64, 3, 2]                \n",
            " 17            [-1, 12]  1         0  ultralytics.nn.modules.Concat                [1]                           \n",
            " 18                  -1  1    123648  ultralytics.nn.modules.C2f                   [192, 128, 1]                 \n",
            " 19                  -1  1    147712  ultralytics.nn.modules.Conv                  [128, 128, 3, 2]              \n",
            " 20             [-1, 9]  1         0  ultralytics.nn.modules.Concat                [1]                           \n",
            " 21                  -1  1    493056  ultralytics.nn.modules.C2f                   [384, 256, 1]                 \n",
            " 22        [15, 18, 21]  1    753067  ultralytics.nn.modules.Detect                [9, [64, 128, 256]]           \n",
            "Model summary: 225 layers, 3012603 parameters, 3012587 gradients, 8.2 GFLOPs\n",
            "\n",
            "Transferred 319/355 items from pretrained weights\n",
            "\u001b[34m\u001b[1mTensorBoard: \u001b[0mStart with 'tensorboard --logdir /content/ultralytics/runs/detect/train', view at http://localhost:6006/\n",
            "\u001b[34m\u001b[1mAMP: \u001b[0mrunning Automatic Mixed Precision (AMP) checks with YOLOv8n...\n",
            "\u001b[34m\u001b[1mAMP: \u001b[0mchecks passed ✅\n",
            "\u001b[34m\u001b[1moptimizer:\u001b[0m SGD(lr=0.01) with parameter groups 57 weight(decay=0.0), 64 weight(decay=0.0005), 63 bias\n",
            "\u001b[34m\u001b[1mtrain: \u001b[0mScanning /content/gdrive/MyDrive/WristBoneProject/GRAZPEDWRI-DX_dataset/yolov5/labels/train... 14248 images, 9 backgrounds, 2 corrupt: 100%|██████████| 14249/14249 [49:40<00:00,  4.78it/s]\n",
            "\u001b[34m\u001b[1mtrain: \u001b[0mWARNING ⚠️ /content/gdrive/MyDrive/WristBoneProject/GRAZPEDWRI-DX_dataset/yolov5/images/train/3863_0939964684_01_WRI-R2_M013.png: ignoring corrupt image/label: [Errno 5] Input/output error\n",
            "\u001b[34m\u001b[1mtrain: \u001b[0mWARNING ⚠️ /content/gdrive/MyDrive/WristBoneProject/GRAZPEDWRI-DX_dataset/yolov5/images/train/3866_0591344823_01_WRI-R2_F016.png: ignoring corrupt image/label: [Errno 5] Input/output error\n",
            "\u001b[34m\u001b[1mtrain: \u001b[0mNew cache created: /content/gdrive/MyDrive/WristBoneProject/GRAZPEDWRI-DX_dataset/yolov5/labels/train.cache\n",
            "\u001b[34m\u001b[1malbumentations: \u001b[0mBlur(p=0.01, blur_limit=(3, 7)), MedianBlur(p=0.01, blur_limit=(3, 7)), ToGray(p=0.01), CLAHE(p=0.01, clip_limit=(1, 4.0), tile_grid_size=(8, 8))\n",
            "\u001b[34m\u001b[1mval: \u001b[0mScanning /content/gdrive/MyDrive/WristBoneProject/GRAZPEDWRI-DX_dataset/yolov5/labels/valid... 4078 images, 4 backgrounds, 0 corrupt: 100%|██████████| 4078/4078 [10:35<00:00,  6.41it/s]\n",
            "\u001b[34m\u001b[1mval: \u001b[0mNew cache created: /content/gdrive/MyDrive/WristBoneProject/GRAZPEDWRI-DX_dataset/yolov5/labels/valid.cache\n",
            "Plotting labels to /content/ultralytics/runs/detect/train/labels.jpg... \n",
            "Image sizes 640 train, 640 val\n",
            "Using 8 dataloader workers\n",
            "Logging results to \u001b[1m/content/ultralytics/runs/detect/train\u001b[0m\n",
            "Starting training for 50 epochs...\n",
            "\n",
            "      Epoch    GPU_mem   box_loss   cls_loss   dfl_loss  Instances       Size\n",
            "       1/50      2.28G      1.494      2.001      1.314         24        640: 100%|██████████| 891/891 [03:18<00:00,  4.48it/s]\n",
            "                 Class     Images  Instances      Box(P          R      mAP50  mAP50-95): 100%|██████████| 128/128 [00:31<00:00,  4.12it/s]\n",
            "                   all       4078       9554      0.751      0.295      0.307       0.19\n",
            "\n",
            "      Epoch    GPU_mem   box_loss   cls_loss   dfl_loss  Instances       Size\n",
            "       2/50      2.25G      1.387      1.233      1.238         39        640: 100%|██████████| 891/891 [03:15<00:00,  4.55it/s]\n",
            "                 Class     Images  Instances      Box(P          R      mAP50  mAP50-95): 100%|██████████| 128/128 [00:28<00:00,  4.49it/s]\n",
            "                   all       4078       9554      0.536      0.322      0.317      0.191\n",
            "\n",
            "      Epoch    GPU_mem   box_loss   cls_loss   dfl_loss  Instances       Size\n",
            "       3/50      2.24G      1.403      1.176      1.246         26        640: 100%|██████████| 891/891 [03:14<00:00,  4.57it/s]\n",
            "                 Class     Images  Instances      Box(P          R      mAP50  mAP50-95): 100%|██████████| 128/128 [00:28<00:00,  4.47it/s]\n",
            "                   all       4078       9554      0.556      0.327      0.329      0.185\n",
            "\n",
            "      Epoch    GPU_mem   box_loss   cls_loss   dfl_loss  Instances       Size\n",
            "       4/50      2.25G      1.401      1.122       1.25         26        640: 100%|██████████| 891/891 [03:16<00:00,  4.52it/s]\n",
            "                 Class     Images  Instances      Box(P          R      mAP50  mAP50-95): 100%|██████████| 128/128 [00:28<00:00,  4.47it/s]\n",
            "                   all       4078       9554       0.44      0.364      0.362      0.211\n",
            "\n",
            "      Epoch    GPU_mem   box_loss   cls_loss   dfl_loss  Instances       Size\n",
            "       5/50      2.24G      1.368      1.037      1.231         34        640: 100%|██████████| 891/891 [03:16<00:00,  4.54it/s]\n",
            "                 Class     Images  Instances      Box(P          R      mAP50  mAP50-95): 100%|██████████| 128/128 [00:28<00:00,  4.48it/s]\n",
            "                   all       4078       9554      0.656      0.311      0.371      0.218\n",
            "\n",
            "      Epoch    GPU_mem   box_loss   cls_loss   dfl_loss  Instances       Size\n",
            "       6/50      2.25G      1.346     0.9889      1.223         26        640: 100%|██████████| 891/891 [03:16<00:00,  4.54it/s]\n",
            "                 Class     Images  Instances      Box(P          R      mAP50  mAP50-95): 100%|██████████| 128/128 [00:28<00:00,  4.53it/s]\n",
            "                   all       4078       9554      0.481      0.379      0.394      0.226\n",
            "\n",
            "      Epoch    GPU_mem   box_loss   cls_loss   dfl_loss  Instances       Size\n",
            "       7/50      2.24G       1.33     0.9477      1.213         33        640: 100%|██████████| 891/891 [03:15<00:00,  4.56it/s]\n",
            "                 Class     Images  Instances      Box(P          R      mAP50  mAP50-95): 100%|██████████| 128/128 [00:28<00:00,  4.47it/s]\n",
            "                   all       4078       9554      0.492       0.38      0.404      0.239\n",
            "\n",
            "      Epoch    GPU_mem   box_loss   cls_loss   dfl_loss  Instances       Size\n",
            "       8/50      2.24G      1.308     0.9203      1.207         27        640: 100%|██████████| 891/891 [03:15<00:00,  4.56it/s]\n",
            "                 Class     Images  Instances      Box(P          R      mAP50  mAP50-95): 100%|██████████| 128/128 [00:28<00:00,  4.47it/s]\n",
            "                   all       4078       9554      0.516      0.422      0.431      0.259\n",
            "\n",
            "      Epoch    GPU_mem   box_loss   cls_loss   dfl_loss  Instances       Size\n",
            "       9/50      2.24G      1.297     0.8905      1.197         25        640: 100%|██████████| 891/891 [03:15<00:00,  4.55it/s]\n",
            "                 Class     Images  Instances      Box(P          R      mAP50  mAP50-95): 100%|██████████| 128/128 [00:28<00:00,  4.49it/s]\n",
            "                   all       4078       9554      0.622      0.393      0.419      0.252\n",
            "\n",
            "      Epoch    GPU_mem   box_loss   cls_loss   dfl_loss  Instances       Size\n",
            "      10/50      2.25G      1.293      0.884      1.197         24        640: 100%|██████████| 891/891 [03:15<00:00,  4.55it/s]\n",
            "                 Class     Images  Instances      Box(P          R      mAP50  mAP50-95): 100%|██████████| 128/128 [00:28<00:00,  4.44it/s]\n",
            "                   all       4078       9554      0.626      0.423      0.429      0.256\n",
            "\n",
            "      Epoch    GPU_mem   box_loss   cls_loss   dfl_loss  Instances       Size\n",
            "      11/50      2.24G      1.284     0.8619       1.19         20        640: 100%|██████████| 891/891 [03:16<00:00,  4.53it/s]\n",
            "                 Class     Images  Instances      Box(P          R      mAP50  mAP50-95): 100%|██████████| 128/128 [00:28<00:00,  4.45it/s]\n",
            "                   all       4078       9554      0.631      0.437      0.442      0.264\n",
            "\n",
            "      Epoch    GPU_mem   box_loss   cls_loss   dfl_loss  Instances       Size\n",
            "      12/50      2.24G      1.279     0.8477      1.188         32        640: 100%|██████████| 891/891 [03:17<00:00,  4.52it/s]\n",
            "                 Class     Images  Instances      Box(P          R      mAP50  mAP50-95): 100%|██████████| 128/128 [00:28<00:00,  4.45it/s]\n",
            "                   all       4078       9554      0.476      0.412      0.438      0.265\n",
            "\n",
            "      Epoch    GPU_mem   box_loss   cls_loss   dfl_loss  Instances       Size\n",
            "      13/50      2.24G      1.265     0.8325      1.181         39        640: 100%|██████████| 891/891 [03:17<00:00,  4.52it/s]\n",
            "                 Class     Images  Instances      Box(P          R      mAP50  mAP50-95): 100%|██████████| 128/128 [00:28<00:00,  4.43it/s]\n",
            "                   all       4078       9554      0.598      0.446      0.463      0.281\n",
            "\n",
            "      Epoch    GPU_mem   box_loss   cls_loss   dfl_loss  Instances       Size\n",
            "      14/50      2.25G      1.259     0.8263       1.18         27        640: 100%|██████████| 891/891 [03:17<00:00,  4.52it/s]\n",
            "                 Class     Images  Instances      Box(P          R      mAP50  mAP50-95): 100%|██████████| 128/128 [00:28<00:00,  4.48it/s]\n",
            "                   all       4078       9554      0.572      0.436      0.464      0.283\n",
            "\n",
            "      Epoch    GPU_mem   box_loss   cls_loss   dfl_loss  Instances       Size\n",
            "      15/50      2.24G      1.258     0.8213      1.176         31        640: 100%|██████████| 891/891 [03:16<00:00,  4.54it/s]\n",
            "                 Class     Images  Instances      Box(P          R      mAP50  mAP50-95): 100%|██████████| 128/128 [00:28<00:00,  4.47it/s]\n",
            "                   all       4078       9554      0.476      0.443      0.466      0.284\n",
            "\n",
            "      Epoch    GPU_mem   box_loss   cls_loss   dfl_loss  Instances       Size\n",
            "      16/50      2.24G      1.252     0.8069      1.172         22        640: 100%|██████████| 891/891 [03:17<00:00,  4.51it/s]\n",
            "                 Class     Images  Instances      Box(P          R      mAP50  mAP50-95): 100%|██████████| 128/128 [00:29<00:00,  4.36it/s]\n",
            "                   all       4078       9554       0.56      0.441      0.462      0.281\n",
            "\n",
            "      Epoch    GPU_mem   box_loss   cls_loss   dfl_loss  Instances       Size\n",
            "      17/50      2.24G      1.241     0.7947      1.169         29        640: 100%|██████████| 891/891 [03:17<00:00,  4.51it/s]\n",
            "                 Class     Images  Instances      Box(P          R      mAP50  mAP50-95): 100%|██████████| 128/128 [00:29<00:00,  4.38it/s]\n",
            "                   all       4078       9554      0.475      0.444      0.461      0.286\n",
            "\n",
            "      Epoch    GPU_mem   box_loss   cls_loss   dfl_loss  Instances       Size\n",
            "      18/50      2.25G      1.235     0.7907      1.165         27        640: 100%|██████████| 891/891 [03:18<00:00,  4.50it/s]\n",
            "                 Class     Images  Instances      Box(P          R      mAP50  mAP50-95): 100%|██████████| 128/128 [00:29<00:00,  4.40it/s]\n",
            "                   all       4078       9554      0.565      0.449      0.473      0.295\n",
            "\n",
            "      Epoch    GPU_mem   box_loss   cls_loss   dfl_loss  Instances       Size\n",
            "      19/50      2.24G      1.233     0.7834      1.165         42        640: 100%|██████████| 891/891 [03:18<00:00,  4.50it/s]\n",
            "                 Class     Images  Instances      Box(P          R      mAP50  mAP50-95): 100%|██████████| 128/128 [00:28<00:00,  4.47it/s]\n",
            "                   all       4078       9554      0.566      0.444      0.462      0.285\n",
            "\n",
            "      Epoch    GPU_mem   box_loss   cls_loss   dfl_loss  Instances       Size\n",
            "      20/50      2.24G      1.231     0.7738      1.165         26        640: 100%|██████████| 891/891 [03:16<00:00,  4.52it/s]\n",
            "                 Class     Images  Instances      Box(P          R      mAP50  mAP50-95): 100%|██████████| 128/128 [00:28<00:00,  4.45it/s]\n",
            "                   all       4078       9554       0.47      0.483      0.477      0.296\n",
            "\n",
            "      Epoch    GPU_mem   box_loss   cls_loss   dfl_loss  Instances       Size\n",
            "      21/50      2.24G      1.223     0.7633      1.157         26        640: 100%|██████████| 891/891 [03:16<00:00,  4.53it/s]\n",
            "                 Class     Images  Instances      Box(P          R      mAP50  mAP50-95): 100%|██████████| 128/128 [00:29<00:00,  4.41it/s]\n",
            "                   all       4078       9554      0.469      0.462      0.484      0.305\n",
            "\n",
            "      Epoch    GPU_mem   box_loss   cls_loss   dfl_loss  Instances       Size\n",
            "      22/50      2.25G      1.216     0.7594      1.157         30        640: 100%|██████████| 891/891 [03:16<00:00,  4.53it/s]\n",
            "                 Class     Images  Instances      Box(P          R      mAP50  mAP50-95): 100%|██████████| 128/128 [00:28<00:00,  4.50it/s]\n",
            "                   all       4078       9554       0.58      0.456      0.478      0.298\n",
            "\n",
            "      Epoch    GPU_mem   box_loss   cls_loss   dfl_loss  Instances       Size\n",
            "      23/50      2.24G      1.218     0.7534      1.156         30        640: 100%|██████████| 891/891 [03:17<00:00,  4.51it/s]\n",
            "                 Class     Images  Instances      Box(P          R      mAP50  mAP50-95): 100%|██████████| 128/128 [00:29<00:00,  4.35it/s]\n",
            "                   all       4078       9554      0.613      0.465      0.485        0.3\n",
            "\n",
            "      Epoch    GPU_mem   box_loss   cls_loss   dfl_loss  Instances       Size\n",
            "      24/50      2.24G      1.213     0.7511      1.153         21        640: 100%|██████████| 891/891 [03:18<00:00,  4.49it/s]\n",
            "                 Class     Images  Instances      Box(P          R      mAP50  mAP50-95): 100%|██████████| 128/128 [00:28<00:00,  4.44it/s]\n",
            "                   all       4078       9554      0.666      0.447      0.483      0.303\n",
            "\n",
            "      Epoch    GPU_mem   box_loss   cls_loss   dfl_loss  Instances       Size\n",
            "      25/50      2.24G      1.211     0.7435      1.151         29        640: 100%|██████████| 891/891 [03:18<00:00,  4.49it/s]\n",
            "                 Class     Images  Instances      Box(P          R      mAP50  mAP50-95): 100%|██████████| 128/128 [00:28<00:00,  4.42it/s]\n",
            "                   all       4078       9554      0.601      0.473      0.485      0.305\n",
            "\n",
            "      Epoch    GPU_mem   box_loss   cls_loss   dfl_loss  Instances       Size\n",
            "      26/50      2.25G      1.203     0.7361      1.151         25        640: 100%|██████████| 891/891 [03:18<00:00,  4.49it/s]\n",
            "                 Class     Images  Instances      Box(P          R      mAP50  mAP50-95): 100%|██████████| 128/128 [00:29<00:00,  4.37it/s]\n",
            "                   all       4078       9554      0.596      0.492      0.495      0.315\n",
            "\n",
            "      Epoch    GPU_mem   box_loss   cls_loss   dfl_loss  Instances       Size\n",
            "      27/50      2.24G      1.205     0.7313      1.149         49        640: 100%|██████████| 891/891 [03:17<00:00,  4.50it/s]\n",
            "                 Class     Images  Instances      Box(P          R      mAP50  mAP50-95): 100%|██████████| 128/128 [00:28<00:00,  4.43it/s]\n",
            "                   all       4078       9554       0.58      0.487       0.49       0.31\n",
            "\n",
            "      Epoch    GPU_mem   box_loss   cls_loss   dfl_loss  Instances       Size\n",
            "      28/50      2.24G      1.202     0.7253      1.145         23        640: 100%|██████████| 891/891 [03:17<00:00,  4.52it/s]\n",
            "                 Class     Images  Instances      Box(P          R      mAP50  mAP50-95): 100%|██████████| 128/128 [00:29<00:00,  4.40it/s]\n",
            "                   all       4078       9554      0.622      0.512      0.509      0.318\n",
            "\n",
            "      Epoch    GPU_mem   box_loss   cls_loss   dfl_loss  Instances       Size\n",
            "      29/50      2.24G      1.196     0.7227      1.146         49        640: 100%|██████████| 891/891 [03:17<00:00,  4.52it/s]\n",
            "                 Class     Images  Instances      Box(P          R      mAP50  mAP50-95): 100%|██████████| 128/128 [00:29<00:00,  4.41it/s]\n",
            "                   all       4078       9554      0.617       0.44       0.49      0.314\n",
            "\n",
            "      Epoch    GPU_mem   box_loss   cls_loss   dfl_loss  Instances       Size\n",
            "      30/50      2.25G       1.19     0.7199      1.147         33        640: 100%|██████████| 891/891 [03:18<00:00,  4.50it/s]\n",
            "                 Class     Images  Instances      Box(P          R      mAP50  mAP50-95): 100%|██████████| 128/128 [00:28<00:00,  4.46it/s]\n",
            "                   all       4078       9554      0.555      0.529      0.499      0.318\n",
            "\n",
            "      Epoch    GPU_mem   box_loss   cls_loss   dfl_loss  Instances       Size\n",
            "      31/50      2.24G      1.187     0.7126      1.141         22        640: 100%|██████████| 891/891 [03:17<00:00,  4.51it/s]\n",
            "                 Class     Images  Instances      Box(P          R      mAP50  mAP50-95): 100%|██████████| 128/128 [00:29<00:00,  4.36it/s]\n",
            "                   all       4078       9554      0.581      0.486      0.494      0.317\n",
            "\n",
            "      Epoch    GPU_mem   box_loss   cls_loss   dfl_loss  Instances       Size\n",
            "      32/50      2.24G      1.182     0.7013      1.139         35        640: 100%|██████████| 891/891 [03:17<00:00,  4.50it/s]\n",
            "                 Class     Images  Instances      Box(P          R      mAP50  mAP50-95): 100%|██████████| 128/128 [00:29<00:00,  4.32it/s]\n",
            "                   all       4078       9554      0.613      0.485      0.508      0.324\n",
            "\n",
            "      Epoch    GPU_mem   box_loss   cls_loss   dfl_loss  Instances       Size\n",
            "      33/50      2.24G      1.174     0.6973      1.134         38        640: 100%|██████████| 891/891 [03:19<00:00,  4.48it/s]\n",
            "                 Class     Images  Instances      Box(P          R      mAP50  mAP50-95): 100%|██████████| 128/128 [00:28<00:00,  4.42it/s]\n",
            "                   all       4078       9554      0.601      0.464      0.495      0.317\n",
            "\n",
            "      Epoch    GPU_mem   box_loss   cls_loss   dfl_loss  Instances       Size\n",
            "      34/50      2.25G      1.175     0.6924      1.134         28        640: 100%|██████████| 891/891 [03:19<00:00,  4.47it/s]\n",
            "                 Class     Images  Instances      Box(P          R      mAP50  mAP50-95): 100%|██████████| 128/128 [00:28<00:00,  4.44it/s]\n",
            "                   all       4078       9554      0.631      0.514       0.51      0.323\n",
            "\n",
            "      Epoch    GPU_mem   box_loss   cls_loss   dfl_loss  Instances       Size\n",
            "      35/50      2.24G      1.171     0.6847      1.132         28        640: 100%|██████████| 891/891 [03:18<00:00,  4.49it/s]\n",
            "                 Class     Images  Instances      Box(P          R      mAP50  mAP50-95): 100%|██████████| 128/128 [00:28<00:00,  4.42it/s]\n",
            "                   all       4078       9554      0.585       0.49      0.503      0.325\n",
            "\n",
            "      Epoch    GPU_mem   box_loss   cls_loss   dfl_loss  Instances       Size\n",
            "      36/50      2.24G      1.172     0.6891      1.131         52        640: 100%|██████████| 891/891 [03:17<00:00,  4.51it/s]\n",
            "                 Class     Images  Instances      Box(P          R      mAP50  mAP50-95): 100%|██████████| 128/128 [00:29<00:00,  4.41it/s]\n",
            "                   all       4078       9554      0.602      0.519      0.511      0.321\n",
            "\n",
            "      Epoch    GPU_mem   box_loss   cls_loss   dfl_loss  Instances       Size\n",
            "      37/50      2.24G      1.166     0.6773      1.132         25        640: 100%|██████████| 891/891 [03:17<00:00,  4.51it/s]\n",
            "                 Class     Images  Instances      Box(P          R      mAP50  mAP50-95): 100%|██████████| 128/128 [00:29<00:00,  4.41it/s]\n",
            "                   all       4078       9554      0.621      0.559      0.528      0.328\n",
            "\n",
            "      Epoch    GPU_mem   box_loss   cls_loss   dfl_loss  Instances       Size\n",
            "      38/50      2.25G      1.161     0.6739      1.128         45        640: 100%|██████████| 891/891 [03:18<00:00,  4.49it/s]\n",
            "                 Class     Images  Instances      Box(P          R      mAP50  mAP50-95): 100%|██████████| 128/128 [00:29<00:00,  4.41it/s]\n",
            "                   all       4078       9554      0.635      0.512      0.516      0.328\n",
            "\n",
            "      Epoch    GPU_mem   box_loss   cls_loss   dfl_loss  Instances       Size\n",
            "      39/50      2.24G      1.158     0.6662      1.127         30        640: 100%|██████████| 891/891 [03:18<00:00,  4.50it/s]\n",
            "                 Class     Images  Instances      Box(P          R      mAP50  mAP50-95): 100%|██████████| 128/128 [00:29<00:00,  4.38it/s]\n",
            "                   all       4078       9554        0.6       0.55      0.517      0.326\n",
            "\n",
            "      Epoch    GPU_mem   box_loss   cls_loss   dfl_loss  Instances       Size\n",
            "      40/50      2.24G      1.151     0.6668      1.121         31        640: 100%|██████████| 891/891 [03:18<00:00,  4.48it/s]\n",
            "                 Class     Images  Instances      Box(P          R      mAP50  mAP50-95): 100%|██████████| 128/128 [00:28<00:00,  4.43it/s]\n",
            "                   all       4078       9554      0.633      0.512      0.526      0.331\n",
            "\n",
            "      Epoch    GPU_mem   box_loss   cls_loss   dfl_loss  Instances       Size\n",
            "      41/50      2.24G      1.149     0.6572       1.12         17        640: 100%|██████████| 891/891 [03:16<00:00,  4.53it/s]\n",
            "                 Class     Images  Instances      Box(P          R      mAP50  mAP50-95): 100%|██████████| 128/128 [00:29<00:00,  4.37it/s]\n",
            "                   all       4078       9554      0.645      0.494      0.509       0.33\n",
            "\n",
            "      Epoch    GPU_mem   box_loss   cls_loss   dfl_loss  Instances       Size\n",
            "      42/50      2.25G      1.146     0.6483      1.121         25        640: 100%|██████████| 891/891 [03:17<00:00,  4.50it/s]\n",
            "                 Class     Images  Instances      Box(P          R      mAP50  mAP50-95): 100%|██████████| 128/128 [00:28<00:00,  4.46it/s]\n",
            "                   all       4078       9554      0.607      0.529      0.513      0.329\n",
            "\n",
            "      Epoch    GPU_mem   box_loss   cls_loss   dfl_loss  Instances       Size\n",
            "      43/50      2.24G      1.136     0.6507      1.117         22        640: 100%|██████████| 891/891 [03:17<00:00,  4.51it/s]\n",
            "                 Class     Images  Instances      Box(P          R      mAP50  mAP50-95): 100%|██████████| 128/128 [00:28<00:00,  4.45it/s]\n",
            "                   all       4078       9554      0.582      0.549      0.509      0.328\n",
            "\n",
            "      Epoch    GPU_mem   box_loss   cls_loss   dfl_loss  Instances       Size\n",
            "      44/50      2.24G      1.135     0.6432      1.116         23        640: 100%|██████████| 891/891 [03:17<00:00,  4.50it/s]\n",
            "                 Class     Images  Instances      Box(P          R      mAP50  mAP50-95): 100%|██████████| 128/128 [00:28<00:00,  4.44it/s]\n",
            "                   all       4078       9554      0.582      0.543      0.509      0.327\n",
            "\n",
            "      Epoch    GPU_mem   box_loss   cls_loss   dfl_loss  Instances       Size\n",
            "      45/50      2.24G      1.133     0.6373      1.111         31        640: 100%|██████████| 891/891 [03:18<00:00,  4.50it/s]\n",
            "                 Class     Images  Instances      Box(P          R      mAP50  mAP50-95): 100%|██████████| 128/128 [00:29<00:00,  4.40it/s]\n",
            "                   all       4078       9554       0.56      0.511      0.504      0.325\n",
            "\n",
            "      Epoch    GPU_mem   box_loss   cls_loss   dfl_loss  Instances       Size\n",
            "      46/50      2.25G      1.127     0.6311      1.114         27        640: 100%|██████████| 891/891 [03:16<00:00,  4.53it/s]\n",
            "                 Class     Images  Instances      Box(P          R      mAP50  mAP50-95): 100%|██████████| 128/128 [00:29<00:00,  4.41it/s]\n",
            "                   all       4078       9554      0.578       0.49      0.499      0.326\n",
            "\n",
            "      Epoch    GPU_mem   box_loss   cls_loss   dfl_loss  Instances       Size\n",
            "      47/50      2.24G      1.115      0.626      1.104         32        640: 100%|██████████| 891/891 [03:16<00:00,  4.53it/s]\n",
            "                 Class     Images  Instances      Box(P          R      mAP50  mAP50-95): 100%|██████████| 128/128 [00:29<00:00,  4.41it/s]\n",
            "                   all       4078       9554      0.584      0.488      0.501      0.324\n",
            "\n",
            "      Epoch    GPU_mem   box_loss   cls_loss   dfl_loss  Instances       Size\n",
            "      48/50      2.24G      1.113     0.6203      1.103         23        640: 100%|██████████| 891/891 [03:16<00:00,  4.53it/s]\n",
            "                 Class     Images  Instances      Box(P          R      mAP50  mAP50-95): 100%|██████████| 128/128 [00:28<00:00,  4.47it/s]\n",
            "                   all       4078       9554      0.601      0.486      0.504      0.326\n",
            "\n",
            "      Epoch    GPU_mem   box_loss   cls_loss   dfl_loss  Instances       Size\n",
            "      49/50      2.24G      1.111     0.6148      1.104         21        640: 100%|██████████| 891/891 [03:17<00:00,  4.51it/s]\n",
            "                 Class     Images  Instances      Box(P          R      mAP50  mAP50-95): 100%|██████████| 128/128 [00:28<00:00,  4.51it/s]\n",
            "                   all       4078       9554      0.578      0.501      0.501      0.324\n",
            "\n",
            "      Epoch    GPU_mem   box_loss   cls_loss   dfl_loss  Instances       Size\n",
            "      50/50      2.25G      1.107     0.6124      1.101         30        640: 100%|██████████| 891/891 [03:17<00:00,  4.52it/s]\n",
            "                 Class     Images  Instances      Box(P          R      mAP50  mAP50-95): 100%|██████████| 128/128 [00:35<00:00,  3.62it/s]\n",
            "                   all       4078       9554      0.585      0.497      0.502      0.324\n",
            "\n",
            "50 epochs completed in 3.151 hours.\n",
            "Optimizer stripped from /content/ultralytics/runs/detect/train/weights/last.pt, 6.2MB\n",
            "Optimizer stripped from /content/ultralytics/runs/detect/train/weights/best.pt, 6.2MB\n",
            "\n",
            "Validating /content/ultralytics/runs/detect/train/weights/best.pt...\n",
            "Ultralytics YOLOv8.0.84 🚀 Python-3.9.16 torch-2.0.0+cu118 CUDA:0 (NVIDIA A100-SXM4-40GB, 40514MiB)\n",
            "Model summary (fused): 168 layers, 3007403 parameters, 0 gradients, 8.1 GFLOPs\n",
            "                 Class     Images  Instances      Box(P          R      mAP50  mAP50-95): 100%|██████████| 128/128 [00:32<00:00,  3.93it/s]\n",
            "                   all       4078       9554      0.523      0.515      0.526      0.331\n",
            "           boneanomaly       4078         37        0.2      0.129     0.0816     0.0211\n",
            "            bonelesion       4078          6      0.449       0.15       0.23     0.0695\n",
            "           foreignbody       4078          4          0          0          0          0\n",
            "              fracture       4078       3699      0.864      0.885      0.932      0.554\n",
            "                 metal       4078        133      0.808      0.902      0.942      0.793\n",
            "    periostealreaction       4078        700      0.571      0.643      0.629      0.297\n",
            "          pronatorsign       4078        114      0.538      0.649      0.659      0.373\n",
            "            softtissue       4078         82      0.324      0.293       0.27      0.142\n",
            "                  text       4078       4779      0.951      0.984       0.99      0.733\n",
            "Speed: 0.1ms preprocess, 0.3ms inference, 0.0ms loss, 1.0ms postprocess per image\n",
            "Results saved to \u001b[1m/content/ultralytics/runs/detect/train\u001b[0m\n"
          ]
        }
      ]
    }
  ]
}